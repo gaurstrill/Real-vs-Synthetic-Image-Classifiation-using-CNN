{
 "cells": [
  {
   "cell_type": "code",
   "execution_count": 2,
   "id": "1649dfc4",
   "metadata": {},
   "outputs": [],
   "source": [
    "import numpy as np\n",
    "import pandas as pd\n",
    "import cv2\n",
    "import matplotlib.pyplot as plt\n",
    "import seaborn as sb\n",
    "import tensorflow as tf\n",
    "from tensorflow import keras\n",
    "from sklearn.model_selection import train_test_split\n",
    "from sklearn.metrics import f1_score"
   ]
  },
  {
   "cell_type": "code",
   "execution_count": 3,
   "id": "ec41499a",
   "metadata": {},
   "outputs": [
    {
     "data": {
      "image/png": "[encoded data removed]",
      "text/plain": [
       "<PIL.JpegImagePlugin.JpegImageFile image mode=RGB size=32x32>"
      ]
     },
     "execution_count": 3,
     "metadata": {},
     "output_type": "execute_result"
    }
   ],
   "source": [
    "import PIL\n",
    "PIL.Image.open('C:/Users/KIIT/Documents/ML/real-synthetic-classification/train/REAL/0009.jpg')"
   ]
  },
  {
   "cell_type": "markdown",
   "id": "560eda9f",
   "metadata": {},
   "source": [
    "CREATING X_TRAIN AND Y_TRAIN"
   ]
  },
  {
   "cell_type": "code",
   "execution_count": 4,
   "id": "9b1abf33",
   "metadata": {},
   "outputs": [
    {
     "data": {
      "text/plain": [
       "50000"
      ]
     },
     "execution_count": 4,
     "metadata": {},
     "output_type": "execute_result"
    }
   ],
   "source": [
    "train_pathfake=[]\n",
    "base_f='C:/Users/KIIT/Documents/ML/real-synthetic-classification/train/FAKE/'\n",
    "\n",
    "for i in range(1000,6000):\n",
    "    a=\"{}{}.jpg\".format(base_f,i)\n",
    "    train_pathfake.append(a)\n",
    "for i in range(1000,6000):\n",
    "    for j in range(2,11):\n",
    "        b=\"{}{} ({}).jpg\".format(base_f,i,j)\n",
    "        train_pathfake.append(b)\n",
    "len(train_pathfake)\n",
    "    \n",
    "    "
   ]
  },
  {
   "cell_type": "code",
   "execution_count": 5,
   "id": "0e6ace6c",
   "metadata": {},
   "outputs": [
    {
     "data": {
      "text/html": [
       "<div>\n",
       "<style scoped>\n",
       "    .dataframe tbody tr th:only-of-type {\n",
       "        vertical-align: middle;\n",
       "    }\n",
       "\n",
       "    .dataframe tbody tr th {\n",
       "        vertical-align: top;\n",
       "    }\n",
       "\n",
       "    .dataframe thead th {\n",
       "        text-align: right;\n",
       "    }\n",
       "</style>\n",
       "<table border=\"1\" class=\"dataframe\">\n",
       "  <thead>\n",
       "    <tr style=\"text-align: right;\">\n",
       "      <th></th>\n",
       "      <th>path</th>\n",
       "      <th>label</th>\n",
       "    </tr>\n",
       "  </thead>\n",
       "  <tbody>\n",
       "    <tr>\n",
       "      <th>0</th>\n",
       "      <td>C:/Users/KIIT/Documents/ML/real-synthetic-clas...</td>\n",
       "      <td>0</td>\n",
       "    </tr>\n",
       "    <tr>\n",
       "      <th>1</th>\n",
       "      <td>C:/Users/KIIT/Documents/ML/real-synthetic-clas...</td>\n",
       "      <td>0</td>\n",
       "    </tr>\n",
       "    <tr>\n",
       "      <th>2</th>\n",
       "      <td>C:/Users/KIIT/Documents/ML/real-synthetic-clas...</td>\n",
       "      <td>0</td>\n",
       "    </tr>\n",
       "    <tr>\n",
       "      <th>3</th>\n",
       "      <td>C:/Users/KIIT/Documents/ML/real-synthetic-clas...</td>\n",
       "      <td>0</td>\n",
       "    </tr>\n",
       "    <tr>\n",
       "      <th>4</th>\n",
       "      <td>C:/Users/KIIT/Documents/ML/real-synthetic-clas...</td>\n",
       "      <td>0</td>\n",
       "    </tr>\n",
       "  </tbody>\n",
       "</table>\n",
       "</div>"
      ],
      "text/plain": [
       "                                                path  label\n",
       "0  C:/Users/KIIT/Documents/ML/real-synthetic-clas...      0\n",
       "1  C:/Users/KIIT/Documents/ML/real-synthetic-clas...      0\n",
       "2  C:/Users/KIIT/Documents/ML/real-synthetic-clas...      0\n",
       "3  C:/Users/KIIT/Documents/ML/real-synthetic-clas...      0\n",
       "4  C:/Users/KIIT/Documents/ML/real-synthetic-clas...      0"
      ]
     },
     "execution_count": 5,
     "metadata": {},
     "output_type": "execute_result"
    }
   ],
   "source": [
    "df_trainf=pd.DataFrame(train_pathfake)\n",
    "df_trainf.columns =['path']\n",
    "df_trainf['label']=0\n",
    "df_trainf.head()"
   ]
  },
  {
   "cell_type": "code",
   "execution_count": 6,
   "id": "d35d7874",
   "metadata": {},
   "outputs": [
    {
     "data": {
      "text/plain": [
       "50000"
      ]
     },
     "execution_count": 6,
     "metadata": {},
     "output_type": "execute_result"
    }
   ],
   "source": [
    "train_pathreal=[]\n",
    "base_r='C:/Users/KIIT/Documents/ML/real-synthetic-classification/train/REAL/'\n",
    "\n",
    "for i in range(0,10):\n",
    "    c = '{}000{}.jpg'.format(base_r, i)\n",
    "    train_pathreal.append(c)\n",
    "\n",
    "for i in range(0,10):\n",
    "    for j in range(2,11):\n",
    "        d = '{}000{} ({}).jpg'.format(base_r ,i,j)\n",
    "        train_pathreal.append(d)\n",
    "for i in range(10,100):\n",
    "    e = '{}00{}.jpg'.format(base_r, i)\n",
    "    train_pathreal.append(e)\n",
    "\n",
    "\n",
    "for i in range(10,100):\n",
    "    for j in range(2,11):\n",
    "        f = '{}00{} ({}).jpg'.format(base_r, i,j)\n",
    "        train_pathreal.append(f)\n",
    "\n",
    "for i in range(100,1000):\n",
    "    g = '{}0{}.jpg'.format(base_r, i)\n",
    "    train_pathreal.append(g)\n",
    "\n",
    "for i in range(100,1000):\n",
    "    for j in range(2,11):\n",
    "        h = '{}0{} ({}).jpg'.format(base_r, i,j)\n",
    "        train_pathreal.append(h)\n",
    "    \n",
    "for i in range(1000,5000):\n",
    "    k = '{}{}.jpg'.format(base_r, i)\n",
    "    train_pathreal.append(k)\n",
    "\n",
    "for i in range(1000,5000):\n",
    "    for j in range(2,11):\n",
    "        l = '{}{} ({}).jpg'.format(base_r, i,j)\n",
    "        train_pathreal.append(l)\n",
    "\n",
    "len(train_pathreal)"
   ]
  },
  {
   "cell_type": "code",
   "execution_count": 7,
   "id": "1438152c",
   "metadata": {},
   "outputs": [
    {
     "data": {
      "text/html": [
       "<div>\n",
       "<style scoped>\n",
       "    .dataframe tbody tr th:only-of-type {\n",
       "        vertical-align: middle;\n",
       "    }\n",
       "\n",
       "    .dataframe tbody tr th {\n",
       "        vertical-align: top;\n",
       "    }\n",
       "\n",
       "    .dataframe thead th {\n",
       "        text-align: right;\n",
       "    }\n",
       "</style>\n",
       "<table border=\"1\" class=\"dataframe\">\n",
       "  <thead>\n",
       "    <tr style=\"text-align: right;\">\n",
       "      <th></th>\n",
       "      <th>path</th>\n",
       "      <th>label</th>\n",
       "    </tr>\n",
       "  </thead>\n",
       "  <tbody>\n",
       "    <tr>\n",
       "      <th>0</th>\n",
       "      <td>C:/Users/KIIT/Documents/ML/real-synthetic-clas...</td>\n",
       "      <td>1</td>\n",
       "    </tr>\n",
       "    <tr>\n",
       "      <th>1</th>\n",
       "      <td>C:/Users/KIIT/Documents/ML/real-synthetic-clas...</td>\n",
       "      <td>1</td>\n",
       "    </tr>\n",
       "    <tr>\n",
       "      <th>2</th>\n",
       "      <td>C:/Users/KIIT/Documents/ML/real-synthetic-clas...</td>\n",
       "      <td>1</td>\n",
       "    </tr>\n",
       "    <tr>\n",
       "      <th>3</th>\n",
       "      <td>C:/Users/KIIT/Documents/ML/real-synthetic-clas...</td>\n",
       "      <td>1</td>\n",
       "    </tr>\n",
       "    <tr>\n",
       "      <th>4</th>\n",
       "      <td>C:/Users/KIIT/Documents/ML/real-synthetic-clas...</td>\n",
       "      <td>1</td>\n",
       "    </tr>\n",
       "  </tbody>\n",
       "</table>\n",
       "</div>"
      ],
      "text/plain": [
       "                                                path  label\n",
       "0  C:/Users/KIIT/Documents/ML/real-synthetic-clas...      1\n",
       "1  C:/Users/KIIT/Documents/ML/real-synthetic-clas...      1\n",
       "2  C:/Users/KIIT/Documents/ML/real-synthetic-clas...      1\n",
       "3  C:/Users/KIIT/Documents/ML/real-synthetic-clas...      1\n",
       "4  C:/Users/KIIT/Documents/ML/real-synthetic-clas...      1"
      ]
     },
     "execution_count": 7,
     "metadata": {},
     "output_type": "execute_result"
    }
   ],
   "source": [
    "df_trainr=pd.DataFrame(train_pathreal)\n",
    "df_trainr.columns =['path']\n",
    "df_trainr['label'] = 1\n",
    "df_trainr.head()\n"
   ]
  },
  {
   "cell_type": "code",
   "execution_count": 15,
   "id": "fddc1475",
   "metadata": {},
   "outputs": [
    {
     "data": {
      "text/html": [
       "<div>\n",
       "<style scoped>\n",
       "    .dataframe tbody tr th:only-of-type {\n",
       "        vertical-align: middle;\n",
       "    }\n",
       "\n",
       "    .dataframe tbody tr th {\n",
       "        vertical-align: top;\n",
       "    }\n",
       "\n",
       "    .dataframe thead th {\n",
       "        text-align: right;\n",
       "    }\n",
       "</style>\n",
       "<table border=\"1\" class=\"dataframe\">\n",
       "  <thead>\n",
       "    <tr style=\"text-align: right;\">\n",
       "      <th></th>\n",
       "      <th>path</th>\n",
       "      <th>label</th>\n",
       "    </tr>\n",
       "  </thead>\n",
       "  <tbody>\n",
       "    <tr>\n",
       "      <th>0</th>\n",
       "      <td>C:/Users/KIIT/Documents/ML/real-synthetic-clas...</td>\n",
       "      <td>1</td>\n",
       "    </tr>\n",
       "    <tr>\n",
       "      <th>1</th>\n",
       "      <td>C:/Users/KIIT/Documents/ML/real-synthetic-clas...</td>\n",
       "      <td>1</td>\n",
       "    </tr>\n",
       "    <tr>\n",
       "      <th>2</th>\n",
       "      <td>C:/Users/KIIT/Documents/ML/real-synthetic-clas...</td>\n",
       "      <td>0</td>\n",
       "    </tr>\n",
       "    <tr>\n",
       "      <th>3</th>\n",
       "      <td>C:/Users/KIIT/Documents/ML/real-synthetic-clas...</td>\n",
       "      <td>0</td>\n",
       "    </tr>\n",
       "    <tr>\n",
       "      <th>4</th>\n",
       "      <td>C:/Users/KIIT/Documents/ML/real-synthetic-clas...</td>\n",
       "      <td>1</td>\n",
       "    </tr>\n",
       "  </tbody>\n",
       "</table>\n",
       "</div>"
      ],
      "text/plain": [
       "                                                path  label\n",
       "0  C:/Users/KIIT/Documents/ML/real-synthetic-clas...      1\n",
       "1  C:/Users/KIIT/Documents/ML/real-synthetic-clas...      1\n",
       "2  C:/Users/KIIT/Documents/ML/real-synthetic-clas...      0\n",
       "3  C:/Users/KIIT/Documents/ML/real-synthetic-clas...      0\n",
       "4  C:/Users/KIIT/Documents/ML/real-synthetic-clas...      1"
      ]
     },
     "execution_count": 15,
     "metadata": {},
     "output_type": "execute_result"
    }
   ],
   "source": [
    "df_train=pd.concat((df_trainf,df_trainr),axis=0)\n",
    "df_train = df_train.sample(frac=1).reset_index(drop=True) #shuffling \n",
    "df_train.head(5)"
   ]
  },
  {
   "cell_type": "code",
   "execution_count": 16,
   "id": "80d94b33",
   "metadata": {},
   "outputs": [],
   "source": [
    "image_df = []\n",
    "\n",
    "for image_path in df_train['path']:\n",
    "    img = cv2.imread(image_path)\n",
    "    if img is not None:\n",
    "        image_df.append(img)\n",
    "for image in image_df:\n",
    "    # Convert the image to float and normalize the pixel values\n",
    "    image = image.astype(float) / 255.0\n"
   ]
  },
  {
   "cell_type": "code",
   "execution_count": 17,
   "id": "e2e2bd43",
   "metadata": {},
   "outputs": [
    {
     "data": {
      "text/plain": [
       "100000"
      ]
     },
     "execution_count": 17,
     "metadata": {},
     "output_type": "execute_result"
    }
   ],
   "source": [
    "len(image_df)"
   ]
  },
  {
   "cell_type": "code",
   "execution_count": 18,
   "id": "1078cbec",
   "metadata": {},
   "outputs": [],
   "source": [
    "x_train = np.array(image_df)\n",
    "y_train = df_train['label']\n"
   ]
  },
  {
   "cell_type": "markdown",
   "id": "a7d6b10c",
   "metadata": {},
   "source": [
    "CREATING X_TEST AND Y_TEST"
   ]
  },
  {
   "cell_type": "code",
   "execution_count": 19,
   "id": "0bcbd233",
   "metadata": {},
   "outputs": [
    {
     "data": {
      "text/plain": [
       "10000"
      ]
     },
     "execution_count": 19,
     "metadata": {},
     "output_type": "execute_result"
    }
   ],
   "source": [
    "test_pathfake=[]\n",
    "base_ft='C:/Users/KIIT/Documents/ML/real-synthetic-classification/test/FAKE/'\n",
    "for i in range(0,1000):\n",
    "    m = '{}{}.jpg'.format(base_ft, i)\n",
    "    test_pathfake.append(m)\n",
    "    \n",
    "for i in range(0,1000):\n",
    "    for j in range(2,11):\n",
    "        n = '{}{} ({}).jpg'.format(base_ft, i, j)\n",
    "        test_pathfake.append(n)\n",
    "len(test_pathfake)"
   ]
  },
  {
   "cell_type": "code",
   "execution_count": 20,
   "id": "beca7f2c",
   "metadata": {},
   "outputs": [
    {
     "data": {
      "text/html": [
       "<div>\n",
       "<style scoped>\n",
       "    .dataframe tbody tr th:only-of-type {\n",
       "        vertical-align: middle;\n",
       "    }\n",
       "\n",
       "    .dataframe tbody tr th {\n",
       "        vertical-align: top;\n",
       "    }\n",
       "\n",
       "    .dataframe thead th {\n",
       "        text-align: right;\n",
       "    }\n",
       "</style>\n",
       "<table border=\"1\" class=\"dataframe\">\n",
       "  <thead>\n",
       "    <tr style=\"text-align: right;\">\n",
       "      <th></th>\n",
       "      <th>path</th>\n",
       "      <th>label</th>\n",
       "    </tr>\n",
       "  </thead>\n",
       "  <tbody>\n",
       "    <tr>\n",
       "      <th>0</th>\n",
       "      <td>C:/Users/KIIT/Documents/ML/real-synthetic-clas...</td>\n",
       "      <td>0</td>\n",
       "    </tr>\n",
       "    <tr>\n",
       "      <th>1</th>\n",
       "      <td>C:/Users/KIIT/Documents/ML/real-synthetic-clas...</td>\n",
       "      <td>0</td>\n",
       "    </tr>\n",
       "    <tr>\n",
       "      <th>2</th>\n",
       "      <td>C:/Users/KIIT/Documents/ML/real-synthetic-clas...</td>\n",
       "      <td>0</td>\n",
       "    </tr>\n",
       "    <tr>\n",
       "      <th>3</th>\n",
       "      <td>C:/Users/KIIT/Documents/ML/real-synthetic-clas...</td>\n",
       "      <td>0</td>\n",
       "    </tr>\n",
       "    <tr>\n",
       "      <th>4</th>\n",
       "      <td>C:/Users/KIIT/Documents/ML/real-synthetic-clas...</td>\n",
       "      <td>0</td>\n",
       "    </tr>\n",
       "  </tbody>\n",
       "</table>\n",
       "</div>"
      ],
      "text/plain": [
       "                                                path  label\n",
       "0  C:/Users/KIIT/Documents/ML/real-synthetic-clas...      0\n",
       "1  C:/Users/KIIT/Documents/ML/real-synthetic-clas...      0\n",
       "2  C:/Users/KIIT/Documents/ML/real-synthetic-clas...      0\n",
       "3  C:/Users/KIIT/Documents/ML/real-synthetic-clas...      0\n",
       "4  C:/Users/KIIT/Documents/ML/real-synthetic-clas...      0"
      ]
     },
     "execution_count": 20,
     "metadata": {},
     "output_type": "execute_result"
    }
   ],
   "source": [
    "df_testfake = pd.DataFrame(test_pathfake)\n",
    "df_testfake.columns = ['path']\n",
    "df_testfake['label'] = 0\n",
    "df_testfake.head()"
   ]
  },
  {
   "cell_type": "code",
   "execution_count": 21,
   "id": "ebb72f56",
   "metadata": {},
   "outputs": [
    {
     "data": {
      "text/plain": [
       "10000"
      ]
     },
     "execution_count": 21,
     "metadata": {},
     "output_type": "execute_result"
    }
   ],
   "source": [
    "test_path_real =[]\n",
    "\n",
    "base_4 = 'C:/Users/KIIT/Documents/ML/real-synthetic-classification/test/REAL/'\n",
    "\n",
    "for i in range(0,10):\n",
    "    o = '{}000{}.jpg'.format(base_4, i)\n",
    "    test_path_real.append(o)\n",
    "\n",
    "for i in range(0,10):\n",
    "    for j in range(2,11):\n",
    "        p = '{}000{} ({}).jpg'.format(base_4, i,j)\n",
    "        test_path_real.append(p)\n",
    "        \n",
    "for i in range(10,100):\n",
    "    q = '{}00{}.jpg'.format(base_4, i)\n",
    "    test_path_real.append(q)\n",
    "\n",
    "for i in range(10,100):\n",
    "    for j in range(2,11):\n",
    "        r = '{}00{} ({}).jpg'.format(base_4, i,j)\n",
    "        test_path_real.append(r)\n",
    "\n",
    "for i in range(100,1000):\n",
    "    s = '{}0{}.jpg'.format(base_4, i)\n",
    "    test_path_real.append(s)\n",
    "    \n",
    "for i in range(100,1000):\n",
    "    for j in range(2,11):\n",
    "        t = '{}0{} ({}).jpg'.format(base_4, i,j)\n",
    "        test_path_real.append(t)\n",
    "len(test_path_real)"
   ]
  },
  {
   "cell_type": "code",
   "execution_count": 22,
   "id": "ec016d7c",
   "metadata": {},
   "outputs": [
    {
     "data": {
      "text/html": [
       "<div>\n",
       "<style scoped>\n",
       "    .dataframe tbody tr th:only-of-type {\n",
       "        vertical-align: middle;\n",
       "    }\n",
       "\n",
       "    .dataframe tbody tr th {\n",
       "        vertical-align: top;\n",
       "    }\n",
       "\n",
       "    .dataframe thead th {\n",
       "        text-align: right;\n",
       "    }\n",
       "</style>\n",
       "<table border=\"1\" class=\"dataframe\">\n",
       "  <thead>\n",
       "    <tr style=\"text-align: right;\">\n",
       "      <th></th>\n",
       "      <th>path</th>\n",
       "      <th>label</th>\n",
       "    </tr>\n",
       "  </thead>\n",
       "  <tbody>\n",
       "    <tr>\n",
       "      <th>0</th>\n",
       "      <td>C:/Users/KIIT/Documents/ML/real-synthetic-clas...</td>\n",
       "      <td>1</td>\n",
       "    </tr>\n",
       "    <tr>\n",
       "      <th>1</th>\n",
       "      <td>C:/Users/KIIT/Documents/ML/real-synthetic-clas...</td>\n",
       "      <td>1</td>\n",
       "    </tr>\n",
       "    <tr>\n",
       "      <th>2</th>\n",
       "      <td>C:/Users/KIIT/Documents/ML/real-synthetic-clas...</td>\n",
       "      <td>1</td>\n",
       "    </tr>\n",
       "    <tr>\n",
       "      <th>3</th>\n",
       "      <td>C:/Users/KIIT/Documents/ML/real-synthetic-clas...</td>\n",
       "      <td>1</td>\n",
       "    </tr>\n",
       "    <tr>\n",
       "      <th>4</th>\n",
       "      <td>C:/Users/KIIT/Documents/ML/real-synthetic-clas...</td>\n",
       "      <td>1</td>\n",
       "    </tr>\n",
       "  </tbody>\n",
       "</table>\n",
       "</div>"
      ],
      "text/plain": [
       "                                                path  label\n",
       "0  C:/Users/KIIT/Documents/ML/real-synthetic-clas...      1\n",
       "1  C:/Users/KIIT/Documents/ML/real-synthetic-clas...      1\n",
       "2  C:/Users/KIIT/Documents/ML/real-synthetic-clas...      1\n",
       "3  C:/Users/KIIT/Documents/ML/real-synthetic-clas...      1\n",
       "4  C:/Users/KIIT/Documents/ML/real-synthetic-clas...      1"
      ]
     },
     "execution_count": 22,
     "metadata": {},
     "output_type": "execute_result"
    }
   ],
   "source": [
    "df_test_real = pd.DataFrame(test_path_real)\n",
    "df_test_real.columns = ['path']\n",
    "df_test_real['label'] = 1\n",
    "df_test_real.head()\n"
   ]
  },
  {
   "cell_type": "code",
   "execution_count": 23,
   "id": "b16c88b8",
   "metadata": {},
   "outputs": [
    {
     "name": "stdout",
     "output_type": "stream",
     "text": [
      "(20000, 2)\n"
     ]
    },
    {
     "data": {
      "text/html": [
       "<div>\n",
       "<style scoped>\n",
       "    .dataframe tbody tr th:only-of-type {\n",
       "        vertical-align: middle;\n",
       "    }\n",
       "\n",
       "    .dataframe tbody tr th {\n",
       "        vertical-align: top;\n",
       "    }\n",
       "\n",
       "    .dataframe thead th {\n",
       "        text-align: right;\n",
       "    }\n",
       "</style>\n",
       "<table border=\"1\" class=\"dataframe\">\n",
       "  <thead>\n",
       "    <tr style=\"text-align: right;\">\n",
       "      <th></th>\n",
       "      <th>path</th>\n",
       "      <th>label</th>\n",
       "    </tr>\n",
       "  </thead>\n",
       "  <tbody>\n",
       "    <tr>\n",
       "      <th>0</th>\n",
       "      <td>C:/Users/KIIT/Documents/ML/real-synthetic-clas...</td>\n",
       "      <td>0</td>\n",
       "    </tr>\n",
       "    <tr>\n",
       "      <th>1</th>\n",
       "      <td>C:/Users/KIIT/Documents/ML/real-synthetic-clas...</td>\n",
       "      <td>1</td>\n",
       "    </tr>\n",
       "    <tr>\n",
       "      <th>2</th>\n",
       "      <td>C:/Users/KIIT/Documents/ML/real-synthetic-clas...</td>\n",
       "      <td>1</td>\n",
       "    </tr>\n",
       "    <tr>\n",
       "      <th>3</th>\n",
       "      <td>C:/Users/KIIT/Documents/ML/real-synthetic-clas...</td>\n",
       "      <td>0</td>\n",
       "    </tr>\n",
       "    <tr>\n",
       "      <th>4</th>\n",
       "      <td>C:/Users/KIIT/Documents/ML/real-synthetic-clas...</td>\n",
       "      <td>1</td>\n",
       "    </tr>\n",
       "  </tbody>\n",
       "</table>\n",
       "</div>"
      ],
      "text/plain": [
       "                                                path  label\n",
       "0  C:/Users/KIIT/Documents/ML/real-synthetic-clas...      0\n",
       "1  C:/Users/KIIT/Documents/ML/real-synthetic-clas...      1\n",
       "2  C:/Users/KIIT/Documents/ML/real-synthetic-clas...      1\n",
       "3  C:/Users/KIIT/Documents/ML/real-synthetic-clas...      0\n",
       "4  C:/Users/KIIT/Documents/ML/real-synthetic-clas...      1"
      ]
     },
     "execution_count": 23,
     "metadata": {},
     "output_type": "execute_result"
    }
   ],
   "source": [
    "df_test = pd.concat((df_testfake, df_test_real), axis = 0 )\n",
    "print(df_test.shape)\n",
    "df_test = df_test.sample(frac=1).reset_index(drop=True)#shuffling \n",
    "df_test.head()"
   ]
  },
  {
   "cell_type": "code",
   "execution_count": 24,
   "id": "396467d4",
   "metadata": {},
   "outputs": [],
   "source": [
    "image_ds = []\n",
    "for image in df_test['path']:\n",
    "    imge = cv2.imread(image)\n",
    "    resize = cv2.resize(imge,(32,32))\n",
    "    image_ds.append(resize)\n",
    "image_arry = np.array(image_ds)\n",
    "x_test = image_arry/255"
   ]
  },
  {
   "cell_type": "code",
   "execution_count": 25,
   "id": "928e0f02",
   "metadata": {},
   "outputs": [],
   "source": [
    "y_test = df_test['label']"
   ]
  },
  {
   "cell_type": "code",
   "execution_count": 26,
   "id": "da6e3282",
   "metadata": {},
   "outputs": [],
   "source": [
    "from tensorflow.keras import layers\n"
   ]
  },
  {
   "cell_type": "code",
   "execution_count": 30,
   "id": "4440eb62",
   "metadata": {},
   "outputs": [],
   "source": [
    "import matplotlib.pyplot as plt\n",
    "\n",
    "def plot_accuracy_loss(history):\n",
    "    # Plot accuracy\n",
    "    fig = plt.figure(figsize=(10, 9))\n",
    "    plt.subplot(221)\n",
    "    plt.plot(history.history['accuracy'], 'bo--', label='accuracy')\n",
    "    plt.plot(history.history['val_accuracy'], 'ro--', label='val_accuracy')\n",
    "    plt.title('Train Accuracy vs. Validation Accuracy')\n",
    "    plt.ylabel('Accuracy')\n",
    "    plt.xlabel('Epochs')\n",
    "    plt.legend()\n",
    "\n",
    "    # Plot loss function\n",
    "    \n",
    "    fig = plt.figure(figsize=(10, 9))\n",
    "    plt.subplot(222)\n",
    "    plt.plot(history.history['loss'], 'bo--', label='loss')\n",
    "    plt.plot(history.history['val_loss'], 'ro--', label='val_loss')\n",
    "    plt.title('Train Loss vs. Validation Loss')\n",
    "    plt.ylabel('Loss')\n",
    "    plt.xlabel('Epochs')\n",
    "    plt.legend()\n",
    "\n",
    "    plt.tight_layout()\n",
    "    plt.show()\n"
   ]
  },
  {
   "cell_type": "code",
   "execution_count": 27,
   "id": "47e5c574",
   "metadata": {},
   "outputs": [
    {
     "name": "stdout",
     "output_type": "stream",
     "text": [
      "Model: \"sequential\"\n",
      "_________________________________________________________________\n",
      "Layer (type)                 Output Shape              Param #   \n",
      "=================================================================\n",
      "conv2d (Conv2D)              (None, 32, 32, 64)        1792      \n",
      "_________________________________________________________________\n",
      "conv2d_1 (Conv2D)            (None, 32, 32, 64)        36928     \n",
      "_________________________________________________________________\n",
      "max_pooling2d (MaxPooling2D) (None, 16, 16, 64)        0         \n",
      "_________________________________________________________________\n",
      "conv2d_2 (Conv2D)            (None, 16, 16, 32)        18464     \n",
      "_________________________________________________________________\n",
      "conv2d_3 (Conv2D)            (None, 16, 16, 32)        9248      \n",
      "_________________________________________________________________\n",
      "max_pooling2d_1 (MaxPooling2 (None, 8, 8, 32)          0         \n",
      "_________________________________________________________________\n",
      "conv2d_4 (Conv2D)            (None, 8, 8, 16)          4624      \n",
      "_________________________________________________________________\n",
      "conv2d_5 (Conv2D)            (None, 8, 8, 16)          2320      \n",
      "_________________________________________________________________\n",
      "max_pooling2d_2 (MaxPooling2 (None, 4, 4, 16)          0         \n",
      "_________________________________________________________________\n",
      "flatten (Flatten)            (None, 256)               0         \n",
      "_________________________________________________________________\n",
      "dense (Dense)                (None, 8)                 2056      \n",
      "_________________________________________________________________\n",
      "dense_1 (Dense)              (None, 4)                 36        \n",
      "_________________________________________________________________\n",
      "dense_2 (Dense)              (None, 2)                 10        \n",
      "=================================================================\n",
      "Total params: 75,478\n",
      "Trainable params: 75,478\n",
      "Non-trainable params: 0\n",
      "_________________________________________________________________\n"
     ]
    }
   ],
   "source": [
    "model = keras.Sequential([\n",
    "    layers.Conv2D(filters = 64 , kernel_size = (3,3),activation = 'tanh',input_shape= (32,32,3), padding='same'),\n",
    "    layers.Conv2D(filters = 64 , kernel_size = (3,3),activation = 'tanh', padding='same'),\n",
    "    layers.MaxPool2D((2,2)),\n",
    "    layers.Conv2D(filters = 32 , kernel_size = (3,3),activation = 'tanh', padding='same'),\n",
    "    layers.Conv2D(filters = 32 , kernel_size = (3,3),activation = 'tanh', padding='same'),\n",
    "    layers.MaxPool2D((2,2)),\n",
    "    layers.Conv2D(filters = 16 , kernel_size = (3,3),activation = 'tanh', padding='same'),\n",
    "    layers.Conv2D(filters = 16 , kernel_size = (3,3),activation = 'tanh', padding='same'),\n",
    "    layers.MaxPool2D((2,2)),\n",
    "    \n",
    "    layers.Flatten(),\n",
    "    layers.Dense(8,activation = 'tanh'),\n",
    "    layers.Dense(4,activation = 'tanh'),\n",
    "    layers.Dense(2,activation = 'sigmoid'),\n",
    "])\n",
    "model.summary()\n"
   ]
  },
  {
   "cell_type": "code",
   "execution_count": 28,
   "id": "a1f42498",
   "metadata": {},
   "outputs": [
    {
     "name": "stdout",
     "output_type": "stream",
     "text": [
      "Epoch 1/5\n",
      "3125/3125 [==============================] - 413s 132ms/step - loss: 0.4610 - accuracy: 0.7862 - val_loss: 0.4472 - val_accuracy: 0.7908\n",
      "Epoch 2/5\n",
      "3125/3125 [==============================] - 516s 165ms/step - loss: 0.3606 - accuracy: 0.8447 - val_loss: 0.3760 - val_accuracy: 0.8374\n",
      "Epoch 3/5\n",
      "3125/3125 [==============================] - 550s 176ms/step - loss: 0.3183 - accuracy: 0.8673 - val_loss: 0.3802 - val_accuracy: 0.8345\n",
      "Epoch 4/5\n",
      "3125/3125 [==============================] - 552s 177ms/step - loss: 0.2953 - accuracy: 0.8766 - val_loss: 0.3440 - val_accuracy: 0.8529\n",
      "Epoch 5/5\n",
      "3125/3125 [==============================] - 513s 164ms/step - loss: 0.2771 - accuracy: 0.8857 - val_loss: 0.3301 - val_accuracy: 0.8607\n"
     ]
    }
   ],
   "source": [
    "from keras.optimizers import SGD\n",
    "opt = SGD(lr=0.01)\n",
    "model.compile(loss = \"sparse_categorical_crossentropy\", optimizer = opt,metrics = ['accuracy'])\n",
    "history = model.fit(x_train, y_train, validation_data=(x_test, y_test), epochs=5)"
   ]
  },
  {
   "cell_type": "code",
   "execution_count": 31,
   "id": "417bab30",
   "metadata": {},
   "outputs": [
    {
     "data": {
      "image/png": "[encoded data removed]",
      "text/plain": [
       "<Figure size 1000x900 with 1 Axes>"
      ]
     },
     "metadata": {},
     "output_type": "display_data"
    },
    {
     "data": {
      "image/png": "[encoded data removed]",
      "text/plain": [
       "<Figure size 1000x900 with 1 Axes>"
      ]
     },
     "metadata": {},
     "output_type": "display_data"
    },
    {
     "name": "stdout",
     "output_type": "stream",
     "text": [
      "625/625 [==============================] - 12s 19ms/step - loss: 0.3301 - accuracy: 0.8607\n"
     ]
    },
    {
     "data": {
      "text/plain": [
       "[0.3301401138305664, 0.8606500029563904]"
      ]
     },
     "execution_count": 31,
     "metadata": {},
     "output_type": "execute_result"
    }
   ],
   "source": [
    "plot_accuracy_loss(history)\n",
    "model.evaluate(x_test,y_test)"
   ]
  },
  {
   "cell_type": "code",
   "execution_count": 32,
   "id": "bae2fa26",
   "metadata": {},
   "outputs": [
    {
     "name": "stdout",
     "output_type": "stream",
     "text": [
      "Epoch 1/5\n",
      "3125/3125 [==============================] - 474s 152ms/step - loss: 0.2577 - accuracy: 0.8942 - val_loss: 0.3406 - val_accuracy: 0.8548\n",
      "Epoch 2/5\n",
      "3125/3125 [==============================] - 514s 164ms/step - loss: 0.2465 - accuracy: 0.9000 - val_loss: 0.3335 - val_accuracy: 0.8588\n",
      "Epoch 3/5\n",
      "3125/3125 [==============================] - 516s 165ms/step - loss: 0.2386 - accuracy: 0.9031 - val_loss: 0.3731 - val_accuracy: 0.8407\n",
      "Epoch 4/5\n",
      "3125/3125 [==============================] - 539s 172ms/step - loss: 0.2306 - accuracy: 0.9069 - val_loss: 0.3338 - val_accuracy: 0.8619\n",
      "Epoch 5/5\n",
      "3125/3125 [==============================] - 619s 198ms/step - loss: 0.2250 - accuracy: 0.9093 - val_loss: 0.3177 - val_accuracy: 0.8677\n"
     ]
    }
   ],
   "source": [
    "history = model.fit(x_train, y_train, validation_data=(x_test, y_test), epochs=5)"
   ]
  },
  {
   "cell_type": "code",
   "execution_count": 33,
   "id": "b2d80148",
   "metadata": {},
   "outputs": [
    {
     "data": {
      "image/png": "[encoded data removed]",
      "text/plain": [
       "<Figure size 1000x900 with 1 Axes>"
      ]
     },
     "metadata": {},
     "output_type": "display_data"
    },
    {
     "data": {
      "image/png": "[encoded data removed]",
      "text/plain": [
       "<Figure size 1000x900 with 1 Axes>"
      ]
     },
     "metadata": {},
     "output_type": "display_data"
    },
    {
     "name": "stdout",
     "output_type": "stream",
     "text": [
      "625/625 [==============================] - 12s 19ms/step - loss: 0.3177 - accuracy: 0.8677\n"
     ]
    },
    {
     "data": {
      "text/plain": [
       "[0.3176972270011902, 0.8677499890327454]"
      ]
     },
     "execution_count": 33,
     "metadata": {},
     "output_type": "execute_result"
    }
   ],
   "source": [
    "plot_accuracy_loss(history)\n",
    "model.evaluate(x_test,y_test)"
   ]
  },
  {
   "cell_type": "code",
   "execution_count": 35,
   "id": "df08d8a3",
   "metadata": {},
   "outputs": [
    {
     "name": "stdout",
     "output_type": "stream",
     "text": [
      "Classification Report     : \n",
      "\n",
      "\n",
      "               precision    recall  f1-score   support\n",
      "\n",
      "           0       0.86      0.88      0.87     10000\n",
      "           1       0.88      0.85      0.87     10000\n",
      "\n",
      "    accuracy                           0.87     20000\n",
      "   macro avg       0.87      0.87      0.87     20000\n",
      "weighted avg       0.87      0.87      0.87     20000\n",
      "\n"
     ]
    },
    {
     "data": {
      "image/png": "[encoded data removed]",
      "text/plain": [
       "<Figure size 400x400 with 2 Axes>"
      ]
     },
     "metadata": {},
     "output_type": "display_data"
    }
   ],
   "source": [
    "from sklearn.metrics import classification_report\n",
    "\n",
    "y_pred  = model.predict(x_test)\n",
    "y_pred_label = [np.argmax(i) for i in y_pred]\n",
    "\n",
    "print('Classification Report     : \\n\\n\\n' , classification_report(y_test,y_pred_label))\n",
    "\n",
    "from sklearn.metrics import confusion_matrix\n",
    "\n",
    "cm = confusion_matrix(y_test , y_pred_label)\n",
    "plt.figure(figsize=(4,4), facecolor= 'pink', edgecolor='brown')\n",
    "\n",
    "sb.heatmap(cm , annot= True, fmt=\"d\")\n",
    "plt.xlabel('Prediction', fontdict= {'family':'fantasy','color':'black','size':15})\n",
    "plt.ylabel('Truth', fontdict= {'family':'fantasy','color':'black','size':15})\n",
    "plt.title('Confusion Matrix',fontdict= {'family':'fantasy','color':'red','size':20})\n",
    "plt.show()"
   ]
  }
 ],
 "metadata": {
  "kernelspec": {
   "display_name": "Python 3 (ipykernel)",
   "language": "python",
   "name": "python3"
  },
  "language_info": {
   "codemirror_mode": {
    "name": "ipython",
    "version": 3
   },
   "file_extension": ".py",
   "mimetype": "text/x-python",
   "name": "python",
   "nbconvert_exporter": "python",
   "pygments_lexer": "ipython3",
   "version": "3.7.16"
  }
 },
 "nbformat": 4,
 "nbformat_minor": 5
}
